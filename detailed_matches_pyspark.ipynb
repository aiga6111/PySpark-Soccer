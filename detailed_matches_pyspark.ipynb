{
 "cells": [
  {
   "cell_type": "code",
   "execution_count": 1,
   "id": "educational-zoning",
   "metadata": {},
   "outputs": [],
   "source": [
    "import sqlite3\n",
    "import pandas as pd\n",
    "import numpy as np\n",
    "\n",
    "from pyspark.sql import SparkSession\n",
    "import pyspark.sql.functions as fn\n",
    "import pyspark.ml.feature as ft\n",
    "\n",
    "from pyspark.sql.functions import isnan, when, count, col"
   ]
  },
  {
   "cell_type": "code",
   "execution_count": 2,
   "id": "vietnamese-southeast",
   "metadata": {},
   "outputs": [],
   "source": [
    "with sqlite3.connect('database.sqlite') as con:\n",
    "    detailed_matches = pd.read_sql_query(\"\"\"SELECT Match.id,\n",
    "                                        Country.name AS country_name,\n",
    "                                        League.name AS league_name, \n",
    "                                        season, \n",
    "                                        stage, \n",
    "                                        date,\n",
    "                                        HT.team_long_name AS  home_team,\n",
    "                                        AT.team_long_name AS away_team,\n",
    "                                        home_team_goal, \n",
    "                                        away_team_goal,\n",
    "                                        goal,\n",
    "                                        shoton,\n",
    "                                        shotoff,\n",
    "                                        foulcommit,\n",
    "                                        card,\n",
    "                                        cross,\n",
    "                                        corner,\n",
    "                                        possession,\n",
    "                                        B365H as betting_odds_home,\n",
    "                                        B365D as betting_odds_draw,\n",
    "                                        B365A as betting_odds_away\n",
    "                                FROM Match\n",
    "                                JOIN Country on Country.id = Match.country_id\n",
    "                                JOIN League on League.id = Match.league_id\n",
    "                                LEFT JOIN Team AS HT on HT.team_api_id = Match.home_team_api_id\n",
    "                                LEFT JOIN Team AS AT on AT.team_api_id = Match.away_team_api_id\n",
    "                                ORDER by date\"\"\", con)"
   ]
  },
  {
   "cell_type": "code",
   "execution_count": 3,
   "id": "senior-brunswick",
   "metadata": {},
   "outputs": [],
   "source": [
    "detailed_matches.to_csv(\"detailed_matches.csv\")"
   ]
  },
  {
   "cell_type": "markdown",
   "id": "confirmed-locator",
   "metadata": {},
   "source": [
    "# data ingestion as parquet with spark"
   ]
  },
  {
   "cell_type": "code",
   "execution_count": 4,
   "id": "chicken-dominican",
   "metadata": {},
   "outputs": [],
   "source": [
    "spark = SparkSession.builder.master('local[4]').config(\"spark.executor.memory\", \"1g\").config(\"spark.driver.memory\", \"2g\").appName('spark_ml_soccer2').getOrCreate()\n",
    "sc = spark.sparkContext"
   ]
  },
  {
   "cell_type": "code",
   "execution_count": 5,
   "id": "neural-freight",
   "metadata": {},
   "outputs": [
    {
     "name": "stdout",
     "output_type": "stream",
     "text": [
      "+---+-----+------------+--------------------+---------+-----+-------------------+--------------------+--------------------+--------------+--------------+----+------+-------+----------+----+-----+------+----------+-----------------+-----------------+-----------------+\n",
      "|_c0|   id|country_name|         league_name|   season|stage|               date|           home_team|           away_team|home_team_goal|away_team_goal|goal|shoton|shotoff|foulcommit|card|cross|corner|possession|betting_odds_home|betting_odds_draw|betting_odds_away|\n",
      "+---+-----+------------+--------------------+---------+-----+-------------------+--------------------+--------------------+--------------+--------------+----+------+-------+----------+----+-----+------+----------+-----------------+-----------------+-----------------+\n",
      "|  0|24559| Switzerland|Switzerland Super...|2008/2009|    1|2008-07-18 00:00:00|      BSC Young Boys|            FC Basel|             1|             2|null|  null|   null|      null|null| null|  null|      null|             null|             null|             null|\n",
      "|  1|24560| Switzerland|Switzerland Super...|2008/2009|    1|2008-07-19 00:00:00|            FC Aarau|             FC Sion|             3|             1|null|  null|   null|      null|null| null|  null|      null|             null|             null|             null|\n",
      "|  2|24561| Switzerland|Switzerland Super...|2008/2009|    1|2008-07-20 00:00:00|           FC Luzern|            FC Vaduz|             1|             2|null|  null|   null|      null|null| null|  null|      null|             null|             null|             null|\n",
      "|  3|24562| Switzerland|Switzerland Super...|2008/2009|    1|2008-07-20 00:00:00|     Neuchâtel Xamax|           FC Zürich|             1|             2|null|  null|   null|      null|null| null|  null|      null|             null|             null|             null|\n",
      "|  4|24613| Switzerland|Switzerland Super...|2008/2009|    2|2008-07-23 00:00:00|            FC Basel|Grasshopper Club ...|             1|             0|null|  null|   null|      null|null| null|  null|      null|             null|             null|             null|\n",
      "|  5|24614| Switzerland|Switzerland Super...|2008/2009|    2|2008-07-23 00:00:00|       AC Bellinzona|     Neuchâtel Xamax|             1|             2|null|  null|   null|      null|null| null|  null|      null|             null|             null|             null|\n",
      "|  6|24615| Switzerland|Switzerland Super...|2008/2009|    2|2008-07-23 00:00:00|           FC Zürich|           FC Luzern|             1|             0|null|  null|   null|      null|null| null|  null|      null|             null|             null|             null|\n",
      "|  7|24616| Switzerland|Switzerland Super...|2008/2009|    2|2008-07-24 00:00:00|             FC Sion|      BSC Young Boys|             2|             1|null|  null|   null|      null|null| null|  null|      null|             null|             null|             null|\n",
      "|  8|24617| Switzerland|Switzerland Super...|2008/2009|    2|2008-07-24 00:00:00|            FC Vaduz|            FC Aarau|             0|             2|null|  null|   null|      null|null| null|  null|      null|             null|             null|             null|\n",
      "|  9|24668| Switzerland|Switzerland Super...|2008/2009|    3|2008-07-26 00:00:00|            FC Basel|       AC Bellinzona|             2|             0|null|  null|   null|      null|null| null|  null|      null|             null|             null|             null|\n",
      "| 10|24669| Switzerland|Switzerland Super...|2008/2009|    3|2008-07-26 00:00:00|           FC Luzern|     Neuchâtel Xamax|             0|             1|null|  null|   null|      null|null| null|  null|      null|             null|             null|             null|\n",
      "| 11|24670| Switzerland|Switzerland Super...|2008/2009|    3|2008-07-27 00:00:00|            FC Aarau|           FC Zürich|             2|             1|null|  null|   null|      null|null| null|  null|      null|             null|             null|             null|\n",
      "| 12|24671| Switzerland|Switzerland Super...|2008/2009|    3|2008-07-27 00:00:00|      BSC Young Boys|            FC Vaduz|             0|             0|null|  null|   null|      null|null| null|  null|      null|             null|             null|             null|\n",
      "| 13|24672| Switzerland|Switzerland Super...|2008/2009|    3|2008-07-30 00:00:00|Grasshopper Club ...|             FC Sion|             3|             1|null|  null|   null|      null|null| null|  null|      null|             null|             null|             null|\n",
      "| 14|24709| Switzerland|Switzerland Super...|2008/2009|    4|2008-08-02 00:00:00|             FC Sion|            FC Basel|             2|             0|null|  null|   null|      null|null| null|  null|      null|             null|             null|             null|\n",
      "| 15|24711| Switzerland|Switzerland Super...|2008/2009|    4|2008-08-02 00:00:00|     Neuchâtel Xamax|            FC Aarau|             0|             0|null|  null|   null|      null|null| null|  null|      null|             null|             null|             null|\n",
      "| 16|24708| Switzerland|Switzerland Super...|2008/2009|    4|2008-08-03 00:00:00|       AC Bellinzona|           FC Luzern|             2|             2|null|  null|   null|      null|null| null|  null|      null|             null|             null|             null|\n",
      "| 17|24710| Switzerland|Switzerland Super...|2008/2009|    4|2008-08-03 00:00:00|            FC Vaduz|Grasshopper Club ...|             1|             1|null|  null|   null|      null|null| null|  null|      null|             null|             null|             null|\n",
      "| 18|24712| Switzerland|Switzerland Super...|2008/2009|    4|2008-08-03 00:00:00|           FC Zürich|      BSC Young Boys|             2|             1|null|  null|   null|      null|null| null|  null|      null|             null|             null|             null|\n",
      "| 19|24722| Switzerland|Switzerland Super...|2008/2009|    6|2008-08-06 00:00:00|       AC Bellinzona|            FC Aarau|             1|             1|null|  null|   null|      null|null| null|  null|      null|             null|             null|             null|\n",
      "+---+-----+------------+--------------------+---------+-----+-------------------+--------------------+--------------------+--------------+--------------+----+------+-------+----------+----+-----+------+----------+-----------------+-----------------+-----------------+\n",
      "only showing top 20 rows\n",
      "\n"
     ]
    }
   ],
   "source": [
    "detailed_matches_sparkDF = spark.read.options(header=True, nullValue='NA', inferSchema=True).csv('./detailed_matches.csv')\n",
    "detailed_matches_sparkDF.show()"
   ]
  },
  {
   "cell_type": "code",
   "execution_count": 6,
   "id": "complete-eleven",
   "metadata": {},
   "outputs": [
    {
     "name": "stdout",
     "output_type": "stream",
     "text": [
      "+---+-----+------------+--------------------+---------+-----+-------------------+--------------------+--------------------+--------------+--------------+----+------+-------+----------+----+-----+------+----------+-----------------+-----------------+-----------------+\n",
      "|_c0|   id|country_name|         league_name|   season|stage|               date|           home_team|           away_team|home_team_goal|away_team_goal|goal|shoton|shotoff|foulcommit|card|cross|corner|possession|betting_odds_home|betting_odds_draw|betting_odds_away|\n",
      "+---+-----+------------+--------------------+---------+-----+-------------------+--------------------+--------------------+--------------+--------------+----+------+-------+----------+----+-----+------+----------+-----------------+-----------------+-----------------+\n",
      "|  0|24559| Switzerland|Switzerland Super...|2008/2009|    1|2008-07-18 00:00:00|      BSC Young Boys|            FC Basel|             1|             2|null|  null|   null|      null|null| null|  null|      null|             null|             null|             null|\n",
      "|  1|24560| Switzerland|Switzerland Super...|2008/2009|    1|2008-07-19 00:00:00|            FC Aarau|             FC Sion|             3|             1|null|  null|   null|      null|null| null|  null|      null|             null|             null|             null|\n",
      "|  2|24561| Switzerland|Switzerland Super...|2008/2009|    1|2008-07-20 00:00:00|           FC Luzern|            FC Vaduz|             1|             2|null|  null|   null|      null|null| null|  null|      null|             null|             null|             null|\n",
      "|  3|24562| Switzerland|Switzerland Super...|2008/2009|    1|2008-07-20 00:00:00|     Neuchâtel Xamax|           FC Zürich|             1|             2|null|  null|   null|      null|null| null|  null|      null|             null|             null|             null|\n",
      "|  4|24613| Switzerland|Switzerland Super...|2008/2009|    2|2008-07-23 00:00:00|            FC Basel|Grasshopper Club ...|             1|             0|null|  null|   null|      null|null| null|  null|      null|             null|             null|             null|\n",
      "|  5|24614| Switzerland|Switzerland Super...|2008/2009|    2|2008-07-23 00:00:00|       AC Bellinzona|     Neuchâtel Xamax|             1|             2|null|  null|   null|      null|null| null|  null|      null|             null|             null|             null|\n",
      "|  6|24615| Switzerland|Switzerland Super...|2008/2009|    2|2008-07-23 00:00:00|           FC Zürich|           FC Luzern|             1|             0|null|  null|   null|      null|null| null|  null|      null|             null|             null|             null|\n",
      "|  7|24616| Switzerland|Switzerland Super...|2008/2009|    2|2008-07-24 00:00:00|             FC Sion|      BSC Young Boys|             2|             1|null|  null|   null|      null|null| null|  null|      null|             null|             null|             null|\n",
      "|  8|24617| Switzerland|Switzerland Super...|2008/2009|    2|2008-07-24 00:00:00|            FC Vaduz|            FC Aarau|             0|             2|null|  null|   null|      null|null| null|  null|      null|             null|             null|             null|\n",
      "|  9|24668| Switzerland|Switzerland Super...|2008/2009|    3|2008-07-26 00:00:00|            FC Basel|       AC Bellinzona|             2|             0|null|  null|   null|      null|null| null|  null|      null|             null|             null|             null|\n",
      "| 10|24669| Switzerland|Switzerland Super...|2008/2009|    3|2008-07-26 00:00:00|           FC Luzern|     Neuchâtel Xamax|             0|             1|null|  null|   null|      null|null| null|  null|      null|             null|             null|             null|\n",
      "| 11|24670| Switzerland|Switzerland Super...|2008/2009|    3|2008-07-27 00:00:00|            FC Aarau|           FC Zürich|             2|             1|null|  null|   null|      null|null| null|  null|      null|             null|             null|             null|\n",
      "| 12|24671| Switzerland|Switzerland Super...|2008/2009|    3|2008-07-27 00:00:00|      BSC Young Boys|            FC Vaduz|             0|             0|null|  null|   null|      null|null| null|  null|      null|             null|             null|             null|\n",
      "| 13|24672| Switzerland|Switzerland Super...|2008/2009|    3|2008-07-30 00:00:00|Grasshopper Club ...|             FC Sion|             3|             1|null|  null|   null|      null|null| null|  null|      null|             null|             null|             null|\n",
      "| 14|24709| Switzerland|Switzerland Super...|2008/2009|    4|2008-08-02 00:00:00|             FC Sion|            FC Basel|             2|             0|null|  null|   null|      null|null| null|  null|      null|             null|             null|             null|\n",
      "| 15|24711| Switzerland|Switzerland Super...|2008/2009|    4|2008-08-02 00:00:00|     Neuchâtel Xamax|            FC Aarau|             0|             0|null|  null|   null|      null|null| null|  null|      null|             null|             null|             null|\n",
      "| 16|24708| Switzerland|Switzerland Super...|2008/2009|    4|2008-08-03 00:00:00|       AC Bellinzona|           FC Luzern|             2|             2|null|  null|   null|      null|null| null|  null|      null|             null|             null|             null|\n",
      "| 17|24710| Switzerland|Switzerland Super...|2008/2009|    4|2008-08-03 00:00:00|            FC Vaduz|Grasshopper Club ...|             1|             1|null|  null|   null|      null|null| null|  null|      null|             null|             null|             null|\n",
      "| 18|24712| Switzerland|Switzerland Super...|2008/2009|    4|2008-08-03 00:00:00|           FC Zürich|      BSC Young Boys|             2|             1|null|  null|   null|      null|null| null|  null|      null|             null|             null|             null|\n",
      "| 19|24722| Switzerland|Switzerland Super...|2008/2009|    6|2008-08-06 00:00:00|       AC Bellinzona|            FC Aarau|             1|             1|null|  null|   null|      null|null| null|  null|      null|             null|             null|             null|\n",
      "+---+-----+------------+--------------------+---------+-----+-------------------+--------------------+--------------------+--------------+--------------+----+------+-------+----------+----+-----+------+----------+-----------------+-----------------+-----------------+\n",
      "only showing top 20 rows\n",
      "\n"
     ]
    }
   ],
   "source": [
    "detailed_matches_sparkDF = spark.read.options(header=True, nullValue='NA', inferSchema=True).csv('./detailed_matches.csv')\n",
    "detailed_matches_sparkDF.show()"
   ]
  },
  {
   "cell_type": "code",
   "execution_count": 7,
   "id": "ideal-making",
   "metadata": {},
   "outputs": [],
   "source": [
    "#write parquet\n",
    "detailed_matches_sparkDF.write.mode(\"overwrite\").parquet(\"detailed_matches.parquet\")"
   ]
  },
  {
   "cell_type": "code",
   "execution_count": 8,
   "id": "serious-bunch",
   "metadata": {},
   "outputs": [],
   "source": [
    "parquetDF = spark.read.parquet(\"detailed_matches.parquet\")"
   ]
  },
  {
   "cell_type": "code",
   "execution_count": 9,
   "id": "robust-minute",
   "metadata": {},
   "outputs": [
    {
     "name": "stdout",
     "output_type": "stream",
     "text": [
      "root\n",
      " |-- _c0: string (nullable = true)\n",
      " |-- id: string (nullable = true)\n",
      " |-- country_name: string (nullable = true)\n",
      " |-- league_name: string (nullable = true)\n",
      " |-- season: string (nullable = true)\n",
      " |-- stage: integer (nullable = true)\n",
      " |-- date: string (nullable = true)\n",
      " |-- home_team: string (nullable = true)\n",
      " |-- away_team: string (nullable = true)\n",
      " |-- home_team_goal: integer (nullable = true)\n",
      " |-- away_team_goal: integer (nullable = true)\n",
      " |-- goal: string (nullable = true)\n",
      " |-- shoton: string (nullable = true)\n",
      " |-- shotoff: string (nullable = true)\n",
      " |-- foulcommit: string (nullable = true)\n",
      " |-- card: string (nullable = true)\n",
      " |-- cross: string (nullable = true)\n",
      " |-- corner: string (nullable = true)\n",
      " |-- possession: string (nullable = true)\n",
      " |-- betting_odds_home: double (nullable = true)\n",
      " |-- betting_odds_draw: double (nullable = true)\n",
      " |-- betting_odds_away: double (nullable = true)\n",
      "\n"
     ]
    }
   ],
   "source": [
    "parquetDF.printSchema()"
   ]
  },
  {
   "cell_type": "code",
   "execution_count": 10,
   "id": "changing-couple",
   "metadata": {},
   "outputs": [],
   "source": [
    "parquetDF.write.partitionBy(\"season\").mode(\"overwrite\").parquet('matchBySeason.parquet')"
   ]
  },
  {
   "cell_type": "markdown",
   "id": "surprised-sandwich",
   "metadata": {},
   "source": [
    "By partitioning the file by season, I broke up the match data, by season, into seperate files we can then load and use in python for analysis. \n",
    "\n",
    "\n",
    "This is what the partitioned file looks like:"
   ]
  },
  {
   "cell_type": "code",
   "execution_count": 13,
   "id": "designed-salad",
   "metadata": {},
   "outputs": [
    {
     "name": "stdout",
     "output_type": "stream",
     "text": [
      "+-----+-----+------------+--------------------+-----+-------------------+--------------------+--------------------+--------------+--------------+--------------------+--------------------+--------------------+--------------------+--------------------+--------------------+--------------------+--------------------+-----------------+-----------------+-----------------+\n",
      "|  _c0|   id|country_name|         league_name|stage|               date|           home_team|           away_team|home_team_goal|away_team_goal|                goal|              shoton|             shotoff|          foulcommit|                card|               cross|              corner|          possession|betting_odds_home|betting_odds_draw|betting_odds_away|\n",
      "+-----+-----+------------+--------------------+-----+-------------------+--------------------+--------------------+--------------+--------------+--------------------+--------------------+--------------------+--------------------+--------------------+--------------------+--------------------+--------------------+-----------------+-----------------+-----------------+\n",
      "|23074|15680| Netherlands|Netherlands Eredi...|    5|2015-09-12 00:00:00|          SC Cambuur|                 PSV|             0|             6|<goal><value><com...|<shoton><value><s...|<shotoff><value><...|<foulcommit><valu...|<card><value><com...|<cross><value><st...|<corner><value><s...|<possession><valu...|              6.5|              4.5|             1.44|\n",
      "|23075|15681| Netherlands|Netherlands Eredi...|    5|2015-09-12 00:00:00|          PEC Zwolle|           Excelsior|             3|             0|<goal><value><com...|<shoton><value><s...|<shotoff><value><...|<foulcommit><valu...|<card><value><com...|<cross><value><st...|<corner><value><s...|<possession><valu...|             1.73|              3.8|              4.5|\n",
      "|23076|17628|      Poland|  Poland Ekstraklasa|    8|2015-09-12 00:00:00|       Śląsk Wrocław|Jagiellonia Biały...|             3|             1|                null|                null|                null|                null|                null|                null|                null|                null|             null|             null|             null|\n",
      "|23077|17631|      Poland|  Poland Ekstraklasa|    8|2015-09-12 00:00:00|            Cracovia|Termalica Bruk-Be...|             2|             3|                null|                null|                null|                null|                null|                null|                null|                null|             null|             null|             null|\n",
      "|23078|17633|      Poland|  Poland Ekstraklasa|    8|2015-09-12 00:00:00|         Lech Poznań|Podbeskidzie Biel...|             0|             1|                null|                null|                null|                null|                null|                null|                null|                null|             null|             null|             null|\n",
      "|23079|19640|    Portugal|Portugal Liga ZON...|    4|2015-09-12 00:00:00|           FC Arouca|            FC Porto|             1|             3|                null|                null|                null|                null|                null|                null|                null|                null|              9.5|              4.5|             1.36|\n",
      "|23080|19648|    Portugal|Portugal Liga ZON...|    4|2015-09-12 00:00:00|       Estoril Praia|            SC Braga|             1|             0|                null|                null|                null|                null|                null|                null|                null|                null|              3.0|              3.2|              2.4|\n",
      "|23081|21500|    Scotland|Scotland Premier ...|    7|2015-09-12 00:00:00|            Aberdeen|              Celtic|             2|             1|                null|                null|                null|                null|                null|                null|                null|                null|              4.2|              3.5|             1.85|\n",
      "|23082|21501|    Scotland|Scotland Premier ...|    7|2015-09-12 00:00:00|       Dundee United|          Kilmarnock|             1|             2|                null|                null|                null|                null|                null|                null|                null|                null|             1.73|             3.75|              4.5|\n",
      "|23083|21503|    Scotland|Scotland Premier ...|    7|2015-09-12 00:00:00|          Motherwell|      Ross County FC|             1|             1|                null|                null|                null|                null|                null|                null|                null|                null|             2.75|              3.2|             2.63|\n",
      "|23084|21504|    Scotland|Scotland Premier ...|    7|2015-09-12 00:00:00|Partick Thistle F.C.|           Dundee FC|             0|             1|                null|                null|                null|                null|                null|                null|                null|                null|             2.55|              3.3|              2.7|\n",
      "|23085|21505|    Scotland|Scotland Premier ...|    7|2015-09-12 00:00:00|    St. Johnstone FC|Hamilton Academic...|             4|             1|                null|                null|                null|                null|                null|                null|                null|                null|             2.15|              3.4|             3.25|\n",
      "|23086|24400|       Spain|     Spain LIGA BBVA|    3|2015-09-12 00:00:00|     Atlético Madrid|        FC Barcelona|             1|             2|<goal><value><com...|<shoton><value><s...|<shotoff><value><...|<foulcommit><valu...|<card><value><com...|<cross><value><st...|<corner><value><s...|<possession><valu...|              3.3|              3.2|              2.3|\n",
      "|23087|24404|       Spain|     Spain LIGA BBVA|    3|2015-09-12 00:00:00|        RCD Espanyol|      Real Madrid CF|             0|             6|<goal><value><com...|<shoton><value><s...|<shotoff><value><...|<foulcommit><valu...|<card><value><com...|<cross><value><st...|<corner><value><s...|<possession><valu...|             10.0|              5.0|             1.33|\n",
      "|23088|24405|       Spain|     Spain LIGA BBVA|    3|2015-09-12 00:00:00| Real Betis Balompié|       Real Sociedad|             1|             0|<goal><value><com...|<shoton><value><s...|<shotoff><value><...|<foulcommit><valu...|<card><value><com...|<cross><value><st...|<corner><value><s...|<possession><valu...|              2.3|              3.3|              3.2|\n",
      "|23089|24406|       Spain|     Spain LIGA BBVA|    3|2015-09-12 00:00:00|Real Sporting de ...|         Valencia CF|             0|             1|<goal><value><com...|<shoton><value><s...|<shotoff><value><...|<foulcommit><valu...|<card><value><com...|<cross><value><st...|<corner><value><s...|<possession><valu...|              3.4|              3.2|             2.25|\n",
      "|23090|25970| Switzerland|Switzerland Super...|    8|2015-09-12 00:00:00|            FC Basel|       FC St. Gallen|             2|             1|                null|                null|                null|                null|                null|                null|                null|                null|             null|             null|             null|\n",
      "|23091|25971| Switzerland|Switzerland Super...|    8|2015-09-12 00:00:00|      BSC Young Boys|            FC Vaduz|             4|             0|                null|                null|                null|                null|                null|                null|                null|                null|             null|             null|             null|\n",
      "|23092| 1705|     Belgium|Belgium Jupiler L...|    7|2015-09-13 00:00:00|      RSC Anderlecht|            KRC Genk|             0|             0|                null|                null|                null|                null|                null|                null|                null|                null|             1.62|              4.0|              5.0|\n",
      "|23093| 1706|     Belgium|Belgium Jupiler L...|    7|2015-09-13 00:00:00|   Standard de Liège|    Sporting Lokeren|             0|             1|                null|                null|                null|                null|                null|                null|                null|                null|              1.8|             3.75|              4.1|\n",
      "+-----+-----+------------+--------------------+-----+-------------------+--------------------+--------------------+--------------+--------------+--------------------+--------------------+--------------------+--------------------+--------------------+--------------------+--------------------+--------------------+-----------------+-----------------+-----------------+\n",
      "only showing top 20 rows\n",
      "\n"
     ]
    }
   ],
   "source": [
    "parDF=spark.read.parquet(\"matchBySeason.parquet/season=2015%2F2016\")\n",
    "parDF.show()"
   ]
  }
 ],
 "metadata": {
  "kernelspec": {
   "display_name": "Python 3",
   "language": "python",
   "name": "python3"
  },
  "language_info": {
   "codemirror_mode": {
    "name": "ipython",
    "version": 3
   },
   "file_extension": ".py",
   "mimetype": "text/x-python",
   "name": "python",
   "nbconvert_exporter": "python",
   "pygments_lexer": "ipython3",
   "version": "3.8.8"
  }
 },
 "nbformat": 4,
 "nbformat_minor": 5
}
